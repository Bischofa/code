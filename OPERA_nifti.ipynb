{
 "cells": [
  {
   "cell_type": "code",
   "execution_count": null,
   "metadata": {
    "collapsed": true
   },
   "outputs": [],
   "source": [
    "from subprocess import call\n",
    "import sys\n",
    "import argparse\n",
    "import glob\n",
    "import os\n",
    "import dicom\n",
    "import gzip"
   ]
  },
  {
   "cell_type": "markdown",
   "metadata": {},
   "source": [
    "argument parsing isn't necessary because this is being run in the notebook instead of the command line"
   ]
  },
  {
   "cell_type": "code",
   "execution_count": null,
   "metadata": {
    "collapsed": true
   },
   "outputs": [],
   "source": [
    "usage = \"\"\"OPERA_nifti.py <patient_folder> <output_folder> <sequence> [additional_sequences]\"\"\"\n",
    "parser = argparse.ArgumentParser(description=\"Generates niftis for OPERA scans\")\n",
    "parser.add_argument(\"patient_folder\", help=\"subject folder with time point i.e. /data/henry6/OPERA/subj002/3T/002_baseline/E*\")\n",
    "parser.add_argument(\"output_folder\", help='folder nifti image is saved to')\n",
    "parser.add_argument('sequence', help='options: FLAIR, T2, post_contrast', nargs='+')\n",
    "args = parser.parse_args()"
   ]
  },
  {
   "cell_type": "code",
   "execution_count": null,
   "metadata": {
    "collapsed": true
   },
   "outputs": [],
   "source": [
    "if len(sys.argv)< 4:\n",
    "    parser.print_help()\n",
    "    sys.exit(1)"
   ]
  },
  {
   "cell_type": "code",
   "execution_count": null,
   "metadata": {
    "collapsed": true
   },
   "outputs": [],
   "source": [
    "print 'number of sequences: ', len(args.sequence)"
   ]
  },
  {
   "cell_type": "markdown",
   "metadata": {},
   "source": [
    "here is where we start"
   ]
  },
  {
   "cell_type": "code",
   "execution_count": null,
   "metadata": {
    "collapsed": true
   },
   "outputs": [],
   "source": [
    "lookup = {\"T2\":\"T2_AX___\", \"FLAIR\":\"FLAIR\", \"post_contrast\":\"SPGR_+C_(3dgrass)\"}"
   ]
  },
  {
   "cell_type": "code",
   "execution_count": null,
   "metadata": {
    "collapsed": true
   },
   "outputs": [],
   "source": [
    "sequences = [(lookup.get(s) or s) for s in args.sequence]"
   ]
  },
  {
   "cell_type": "code",
   "execution_count": null,
   "metadata": {
    "collapsed": true
   },
   "outputs": [],
   "source": [
    "def main(patient):\n",
    "    exam_folders =  sorted(glob.glob(patient+'/E*'))\n",
    "    if len(exam_folders) > 0 \n",
    "        for exam_folder in exam_folders>\n",
    "            print 'exam', exam_folder\n",
    "            list_series = sorted(os.listdir(exam_folder),key=int)\n",
    "            print 'series', list_series\n",
    "            list_series =  ['{}/{}'.format(exam_folder, i) for i in list_series]\n",
    "            for sequence in sequences>\n",
    "                grab_niftis(list_series, sequence, output_folder)"
   ]
  },
  {
   "cell_type": "code",
   "execution_count": null,
   "metadata": {
    "collapsed": true
   },
   "outputs": [],
   "source": [
    "def grab_niftis(list_series, sequence, output_folder):\n",
    "    print sequence\n",
    "    subject =  patient_folder.split('/')[-2]\n",
    "    tp =  patient_folder.split('/')[-1]\n",
    "    \n",
    "    for series in list_series:\n",
    "            list_dicoms = sorted(glob.glob(series+'/*[dD][cC][mM]*'))\n",
    "            if 'gz' in list_dicoms[0]:\n",
    "                    call (['gunzip', list_dicoms[0]])\n",
    "                    list_dicoms[0] = list_dicoms[0][:-3]\n",
    "                    ds =  dicom.read_file(list_dicoms[0])\n",
    "            else:\n",
    "                ds = dicom.read_file(list_dicoms[0])\n",
    "            if (sequence == \"T2_AX___\") and (sequence in ds.SeriesDescription):\n",
    "                print(ds.SeriesDescription)\n",
    "                call(['dcmgz2nii', '-o', output_folder, series])\n",
    "                \n",
    "            elif (sequence == 'FLAIR') and (sequence in ds.SeriesDescription):\n",
    "                print(ds.SeriesDescription)\n",
    "                call(['dcmgz2nii', '-o', output_folder, series])\n",
    "                break\n",
    "            elif (sequence == 'SPGR_+C_(3dgrass)')\n",
    "                print(ds.SeriesDescription)\n",
    "                call(['dcmgz2nii', '-o', output_folder, series])\n",
    "                break\n",
    "                \n",
    "patient_folder =  os.path.abspath(args.patient_folder)\n",
    "output_folder = os.path.abspath(args.output_folder)\n",
    "print('\\n'+patient_folder)\n",
    "main(patient_folder)"
   ]
  }
 ],
 "metadata": {
  "kernelspec": {
   "display_name": "Python 2",
   "language": "python",
   "name": "python2"
  },
  "language_info": {
   "codemirror_mode": {
    "name": "ipython",
    "version": 2
   },
   "file_extension": ".py",
   "mimetype": "text/x-python",
   "name": "python",
   "nbconvert_exporter": "python",
   "pygments_lexer": "ipython2",
   "version": "2.7.11"
  }
 },
 "nbformat": 4,
 "nbformat_minor": 0
}
