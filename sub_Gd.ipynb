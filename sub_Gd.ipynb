{
 "cells": [
  {
   "cell_type": "code",
   "execution_count": 23,
   "metadata": {
    "collapsed": false,
    "deletable": true,
    "editable": true
   },
   "outputs": [],
   "source": [
    "#!/usr/bin/env python\n",
    "\n",
    "from subprocess import call\n",
    "import sys\n",
    "import nibabel as nib\n",
    "import numpy as np\n",
    "import pandas as pd\n",
    "import os"
   ]
  },
  {
   "cell_type": "code",
   "execution_count": 2,
   "metadata": {
    "collapsed": false,
    "deletable": true,
    "editable": true
   },
   "outputs": [],
   "source": [
    "#csv = sys.argv[1]"
   ]
  },
  {
   "cell_type": "code",
   "execution_count": 11,
   "metadata": {
    "collapsed": false,
    "deletable": true,
    "editable": true
   },
   "outputs": [],
   "source": [
    "df = pd.read_csv('/home/abischof/Gd_project/sub_Gd.csv')"
   ]
  },
  {
   "cell_type": "code",
   "execution_count": 12,
   "metadata": {
    "collapsed": false,
    "deletable": true,
    "editable": true
   },
   "outputs": [
    {
     "name": "stdout",
     "output_type": "stream",
     "text": [
      "   msID                             pre                             post\n",
      "0  1886  ms1886_20150413_preGdT1.nii.gz  ms1886_20150413_postGdT1.nii.gz\n"
     ]
    }
   ],
   "source": [
    "print(df)"
   ]
  },
  {
   "cell_type": "code",
   "execution_count": 32,
   "metadata": {
    "collapsed": false,
    "deletable": true,
    "editable": true
   },
   "outputs": [
    {
     "name": "stdout",
     "output_type": "stream",
     "text": [
      "/home/abischof/Gd_project/ms1886/ms1886_20150413_preGdT1.nii.gz\n",
      "/home/abischof/Gd_project/ms1886/ms1886_20150413_postGdT1.nii.gz\n",
      "/home/abischof/Gd_project/ms1886/ms1886_20150413_preGdT1_bet.nii.gz\n",
      "/home/abischof/Gd_project/ms1886/ms1886_20150413_postGdT1_bet.nii.gz\n"
     ]
    }
   ],
   "source": [
    "msdir = '/home/abischof/Gd_project/ms1886/'\n",
    "for i in df.index:\n",
    "    T1_pre = os.path.join(msdir, df.pre[i])\n",
    "    T1_post = os.path.join(msdir, df.post[i])\n",
    "    print T1_pre\n",
    "    print T1_post\n",
    "    \n",
    "    #extract brain from T1 pre and post, rather use low fractional intensity threshold to make sure all brain voxels are included, as images are subtracted later\n",
    "    pre_brain = T1_pre[:-7]+'_bet.nii.gz'\n",
    "    print pre_brain\n",
    "\n",
    "    #call(['bet', T1_pre, pre_brain, '-B', '-f', '0.20'])\n",
    "    \n",
    "    post_brain = T1_post[:-7]+'_bet.nii.gz'\n",
    "    print post_brain\n",
    "\n",
    "    #call(['bet', T1_post, post_brain, '-B', '-f', '0.20'])\n",
    "\n",
    "    #register postGdT1 to preGdT1\n",
    "    reg_brain = post_brain[:-7]+'_reg.nii.gz'\n",
    "    transform = post_brain[:-7]+'_transform.mat'\n",
    "    call(['flirt', '-interp', 'nearestneighbour', '-in', post_brain, '-ref', pre_brain, '-out', reg_brain, '-cost', 'normmi', '-dof', '6', '-omat', transform])\n",
    "    '''\n",
    "    #subtract brain extracted preT1 from postT1\n",
    "    sub_file = pre_brain[:-7]+'_sub.nii.gz'\n",
    "    call(['fslmaths', reg_brain, '-sub', pre_brain, sub_file])'''"
   ]
  },
  {
   "cell_type": "code",
   "execution_count": 16,
   "metadata": {
    "collapsed": false,
    "deletable": true,
    "editable": true
   },
   "outputs": [],
   "source": []
  },
  {
   "cell_type": "code",
   "execution_count": null,
   "metadata": {
    "collapsed": false,
    "deletable": true,
    "editable": true
   },
   "outputs": [],
   "source": []
  },
  {
   "cell_type": "code",
   "execution_count": null,
   "metadata": {
    "collapsed": false,
    "deletable": true,
    "editable": true
   },
   "outputs": [],
   "source": []
  }
 ],
 "metadata": {
  "kernelspec": {
   "display_name": "Python 2",
   "language": "python",
   "name": "python2"
  },
  "language_info": {
   "codemirror_mode": {
    "name": "ipython",
    "version": 2
   },
   "file_extension": ".py",
   "mimetype": "text/x-python",
   "name": "python",
   "nbconvert_exporter": "python",
   "pygments_lexer": "ipython2",
   "version": "2.7.13"
  }
 },
 "nbformat": 4,
 "nbformat_minor": 0
}
