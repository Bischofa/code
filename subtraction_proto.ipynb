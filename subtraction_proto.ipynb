{
 "metadata": {
  "name": "",
  "signature": "sha256:be6bb9643c3dcfdd3d64b53514b38037adc947ab55e0164fbff329ea770d1dc0"
 },
 "nbformat": 3,
 "nbformat_minor": 0,
 "worksheets": [
  {
   "cells": [
    {
     "cell_type": "code",
     "collapsed": false,
     "input": [
      "#!/usr/bin/env python\n",
      "\n",
      "from subprocess import call\n",
      "import sys\n",
      "import nibabel as nib\n",
      "import numpy as np\n",
      "import pandas as pd"
     ],
     "language": "python",
     "metadata": {},
     "outputs": [],
     "prompt_number": 6
    },
    {
     "cell_type": "code",
     "collapsed": false,
     "input": [
      "#csv = sys.argv[1]"
     ],
     "language": "python",
     "metadata": {},
     "outputs": [],
     "prompt_number": 2
    },
    {
     "cell_type": "code",
     "collapsed": false,
     "input": [
      "df = pd.read_csv('/home/abischof/Gd_project/sub_Gd.csv')"
     ],
     "language": "python",
     "metadata": {},
     "outputs": [],
     "prompt_number": 8
    },
    {
     "cell_type": "code",
     "collapsed": false,
     "input": [
      "for i in df.index:\n",
      "\tT1_pre = df.pre[i]\n",
      "\tT1_post = df.post[i]\n",
      "\n",
      "\t#extract brain from T1 pre and post, rather use low fractional intensity threshold to make sure all brain voxels are included, as images are subtracted later\n",
      "\t'''pre_brain = T1_pre[:-7]+'_bet.nii.gz'\n",
      "\tcall(['bet', T1_pre, pre_brain, '-B', '-f', '0.20'])\n",
      "\n",
      "\tpost_brain = T1_post[:-7]+'_bet.nii.gz'\n",
      "\tcall(['bet', T1_post, post_brain, '-B', '-f', '0.20'])'''"
     ],
     "language": "python",
     "metadata": {},
     "outputs": []
    },
    {
     "cell_type": "code",
     "collapsed": false,
     "input": [
      "#register postGdT1 to preGdT1\n",
      "\treg_brain = post_brain[:-7]+'reg.nii.gz'\n",
      "\ttransform = post_brain[:-7]+'transform.mat'\n",
      "\tcall(['flirt', '-interp', 'nearestneighbour', '-in', post_brain, 'ref', pre_brain, '-out', reg_brain, '-applyxfm', '-init', 'normmi', '-dof', '6', '-omat', transform]) "
     ],
     "language": "python",
     "metadata": {},
     "outputs": []
    },
    {
     "cell_type": "code",
     "collapsed": false,
     "input": [
      "#subtract brain extracted preT1 from postT1\n",
      "\tsub_file = pre_brain[:-7]+_'sub.nii.gz'\n",
      "\tcall(['fslmaths', reg_brain, '-sub', pre_brain, sub_file])"
     ],
     "language": "python",
     "metadata": {},
     "outputs": []
    }
   ],
   "metadata": {}
  }
 ]
}