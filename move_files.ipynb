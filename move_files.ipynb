{
 "cells": [
  {
   "cell_type": "markdown",
   "metadata": {},
   "source": [
    "copies a list of files from source. handles duplicates.\n",
    "usage: python move.py /path/to/src /path/to/dst/ file.txt"
   ]
  },
  {
   "cell_type": "code",
   "execution_count": 1,
   "metadata": {
    "collapsed": true
   },
   "outputs": [],
   "source": [
    "import os, sys, shutil"
   ]
  },
  {
   "cell_type": "code",
   "execution_count": 1,
   "metadata": {},
   "outputs": [
    {
     "ename": "SyntaxError",
     "evalue": "unexpected EOF while parsing (<ipython-input-1-3854f9417934>, line 1)",
     "output_type": "error",
     "traceback": [
      "\u001b[0;36m  File \u001b[0;32m\"<ipython-input-1-3854f9417934>\"\u001b[0;36m, line \u001b[0;32m1\u001b[0m\n\u001b[0;31m    def rename(file_name, dst, num=1):\u001b[0m\n\u001b[0m                                      ^\u001b[0m\n\u001b[0;31mSyntaxError\u001b[0m\u001b[0;31m:\u001b[0m unexpected EOF while parsing\n"
     ]
    }
   ],
   "source": [
    "def rename(file_name, dst, num=1):\n",
    "    #splits file name to add number distinction\n",
    "    (file_prefix, extension) = os.path.splitext(file_name)\n",
    "    renamed = \"{0} {1} {2}\" .format(file_prefix, num, extension)\n",
    "    \n",
    "    #checks if renamed file exists; renames file if it does exist\n",
    "    if os.path.exists(dst + renamed):\n",
    "        return rename(file_name, dst, num + 1)\n",
    "    else:\n",
    "        return renamed"
   ]
  },
  {
   "cell_type": "code",
   "execution_count": null,
   "metadata": {
    "collapsed": true
   },
   "outputs": [],
   "source": [
    "def copy_files(src,dst,file_list):\n",
    "    for files in file_list:\n",
    "        src_file_path = src + files\n",
    "        dst_file_path = dst + files\n",
    "        if os.path.exists(dst_file_path):\n",
    "            new_file_name = rename(files, dst)\n",
    "            dst_file_path = dst + new_file_name\n",
    "            \n",
    "        print \"Copying: \" + dst_file_path\n",
    "        try:\n",
    "            shutil.copyfile(src_file_path, dst_file_path)\n",
    "        except IOError:\n",
    "            print src_file_path + \" does not exist\"\n",
    "            input(\"Please press enter to continue.\")"
   ]
  },
  {
   "cell_type": "code",
   "execution_count": null,
   "metadata": {
    "collapsed": true
   },
   "outputs": [],
   "source": [
    "def read_file(file_name):\n",
    "    f = open(file_name)\n",
    "    #reads each line of file (f), strips out extra whitespace and returns a list with each line of the file being an element of the list\n",
    "    content = [x.strip() for x in f.readlines()]\n",
    "    f.close()\n",
    "    return content"
   ]
  },
  {
   "cell_type": "code",
   "execution_count": null,
   "metadata": {
    "collapsed": true
   },
   "outputs": [],
   "source": [
    "src = sys.argv[1]\n",
    "dst = sys.argv[2]\n",
    "file_with_list = sys.argv[3]"
   ]
  },
  {
   "cell_type": "code",
   "execution_count": null,
   "metadata": {
    "collapsed": true
   },
   "outputs": [],
   "source": [
    "copy_files(src,dst,read_file(file_with_list))"
   ]
  }
 ],
 "metadata": {
  "kernelspec": {
   "display_name": "Python 3",
   "language": "python",
   "name": "python3"
  },
  "language_info": {
   "codemirror_mode": {
    "name": "ipython",
    "version": 3
   },
   "file_extension": ".py",
   "mimetype": "text/x-python",
   "name": "python",
   "nbconvert_exporter": "python",
   "pygments_lexer": "ipython3",
   "version": "3.6.3"
  }
 },
 "nbformat": 4,
 "nbformat_minor": 2
}
