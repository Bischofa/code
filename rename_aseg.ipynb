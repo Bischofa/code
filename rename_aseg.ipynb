{
 "metadata": {
  "name": "",
  "signature": "sha256:24cf0ffb087461b82c8e4b6311bdf1123073b1d1aa2f11cb5e0762ec13765720"
 },
 "nbformat": 3,
 "nbformat_minor": 0,
 "worksheets": [
  {
   "cells": [
    {
     "cell_type": "code",
     "collapsed": false,
     "input": [
      "from glob import glob\n",
      "from subprocess import call\n",
      "import os"
     ],
     "language": "python",
     "metadata": {},
     "outputs": [],
     "prompt_number": 1
    },
    {
     "cell_type": "code",
     "collapsed": false,
     "input": [
      "corrected = sorted(glob('/data/henry6/PBR/surfaces/*/mri/*corr.nii.gz'))"
     ],
     "language": "python",
     "metadata": {},
     "outputs": [],
     "prompt_number": 1
    },
    {
     "cell_type": "code",
     "collapsed": false,
     "input": [
      "for image in corrected:\n",
      "    if \"_\" not in os.path.basename(image):\n",
      "        print image\n",
      "        new_image = os.path.join(os.path.dirname(image),  \"aseg_corr.nii.gz\")\n",
      "        #print new_image\n",
      "        call(['mv', image, new_image])"
     ],
     "language": "python",
     "metadata": {},
     "outputs": [],
     "prompt_number": 1
    },
    {
     "cell_type": "code",
     "collapsed": false,
     "input": [],
     "language": "python",
     "metadata": {},
     "outputs": []
    }
   ],
   "metadata": {}
  }
 ]
}